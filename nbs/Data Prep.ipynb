{
 "cells": [
  {
   "cell_type": "code",
   "execution_count": 1,
   "metadata": {
    "collapsed": true
   },
   "outputs": [],
   "source": [
    "import os\n",
    "import numpy as np\n",
    "from shutil import copyfile\n",
    "KG_PATH = '/home/ubuntu/kgcatsdogsr/'\n",
    "DST_PATH = '/home/ubuntu/myfastai/nbs/data/dogscats/'"
   ]
  },
  {
   "cell_type": "code",
   "execution_count": 2,
   "metadata": {
    "collapsed": true
   },
   "outputs": [],
   "source": [
    "def check_and_make_dir(path):\n",
    "    if not os.path.exists(path):\n",
    "        os.makedirs(path)"
   ]
  },
  {
   "cell_type": "code",
   "execution_count": 3,
   "metadata": {
    "collapsed": false
   },
   "outputs": [],
   "source": [
    "def setup_train(classes, spath=KG_PATH+'train/', dpath=DST_PATH+'train/'):\n",
    "    for c in classes:\n",
    "        fdir = dpath+c+'s/'\n",
    "        check_and_make_dir(fdir)\n",
    "        clen = len(c)\n",
    "        \n",
    "        for f in os.listdir(spath):\n",
    "            if f.startswith(c):\n",
    "                copyfile(spath+f,fdir+f)\n",
    "    "
   ]
  },
  {
   "cell_type": "code",
   "execution_count": 4,
   "metadata": {
    "collapsed": false
   },
   "outputs": [],
   "source": [
    "def setup_test(spath=KG_PATH+'test/', dpath=DST_PATH+'test/'):\n",
    "    fdir = dpath+'unknown/'\n",
    "    check_and_make_dir(fdir)\n",
    "    \n",
    "    for f in os.listdir(spath):\n",
    "        copyfile(spath+f,dpath+f)"
   ]
  },
  {
   "cell_type": "code",
   "execution_count": 5,
   "metadata": {
    "collapsed": true
   },
   "outputs": [],
   "source": [
    "def sample_files(spath, num):\n",
    "    return np.random.choice(os.listdir(spath), num, replace=False).tolist()"
   ]
  },
  {
   "cell_type": "code",
   "execution_count": 6,
   "metadata": {
    "collapsed": true
   },
   "outputs": [],
   "source": [
    "def setup_valid(classes, path=DST_PATH, num=1000):\n",
    "    for c in classes:\n",
    "        spath = path+'train/'+c+'s/'\n",
    "        dpath = path+'valid/'+c+'s/'\n",
    "        check_and_make_dir(dpath)\n",
    "        \n",
    "        for f in sample_files(spath, num):\n",
    "            os.rename(spath+f,dpath+f)    "
   ]
  },
  {
   "cell_type": "code",
   "execution_count": 7,
   "metadata": {
    "collapsed": true
   },
   "outputs": [],
   "source": [
    "def setup_sample(classes, path=DST_PATH, numt=80, numv=20):\n",
    "    for c in classes:\n",
    "        for d, n in [('train/', numt), ('valid/', numv)]:\n",
    "            spath = path+d+c+'s/'\n",
    "            dpath = path+'sample/'+d+c+'s/'\n",
    "            check_and_make_dir(dpath)\n",
    "            \n",
    "            for f in sample_files(spath, n):\n",
    "                copyfile(spath+f,dpath+f)"
   ]
  },
  {
   "cell_type": "code",
   "execution_count": 8,
   "metadata": {
    "collapsed": true
   },
   "outputs": [],
   "source": [
    "def setup_data(classes):\n",
    "    setup_train(classes)\n",
    "    setup_test()\n",
    "    setup_valid(classes)\n",
    "    setup_sample(classes)\n"
   ]
  },
  {
   "cell_type": "code",
   "execution_count": 9,
   "metadata": {
    "collapsed": false
   },
   "outputs": [],
   "source": [
    "classes = ['cat', 'dog']\n",
    "setup_data(classes)"
   ]
  }
 ],
 "metadata": {
  "anaconda-cloud": {},
  "kernelspec": {
   "display_name": "Python [conda root]",
   "language": "python",
   "name": "conda-root-py"
  },
  "language_info": {
   "codemirror_mode": {
    "name": "ipython",
    "version": 2
   },
   "file_extension": ".py",
   "mimetype": "text/x-python",
   "name": "python",
   "nbconvert_exporter": "python",
   "pygments_lexer": "ipython2",
   "version": "2.7.12"
  }
 },
 "nbformat": 4,
 "nbformat_minor": 1
}
